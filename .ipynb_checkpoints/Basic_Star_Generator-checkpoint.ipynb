{
 "cells": [
  {
   "cell_type": "code",
   "execution_count": 1,
   "metadata": {},
   "outputs": [],
   "source": [
    "import numpy as np\n",
    "from PIL import Image\n",
    "import random\n",
    "import cv2\n",
    "import matplotlib.pyplot as plt\n",
    "import os\n",
    "import pandas as pd"
   ]
  },
  {
   "cell_type": "code",
   "execution_count": 2,
   "metadata": {},
   "outputs": [],
   "source": [
    "# loading and saving the true labeled images and creating a\n",
    "labeled_data = pd.read_csv(\"cosmology_aux_data_170429/labeled.csv\", dtype = np.int64).to_numpy()\n",
    "labeled_data = labeled_data[labeled_data[:,1]==1,0]\n",
    "labeled_dir = 'cosmology_aux_data_170429/labeled'\n",
    "os.makedirs(\"basic_images\", exist_ok=True)"
   ]
  },
  {
   "cell_type": "code",
   "execution_count": 3,
   "metadata": {},
   "outputs": [],
   "source": [
    "params ={'threshold': 4, # threshold for identifying stars in an image\n",
    "        'min_area': 3, # minimum size of the contour area\n",
    "         'num_images': 100 # amount of generated images\n",
    "        }"
   ]
  },
  {
   "cell_type": "code",
   "execution_count": 4,
   "metadata": {},
   "outputs": [],
   "source": [
    "max_stars = 0\n",
    "min_stars = 1000\n",
    "max_size = 0\n",
    "min_size = 1000"
   ]
  },
  {
   "cell_type": "code",
   "execution_count": 5,
   "metadata": {},
   "outputs": [],
   "source": [
    "for img_name in labeled_data:\n",
    "    src = cv2.imread(labeled_dir + '/' + str(img_name) + '.png')\n",
    "    src = cv2.cvtColor(src, cv2.COLOR_BGR2GRAY)\n",
    "    \n",
    "    # threshold and detect contours\n",
    "    thresh = cv2.threshold(src, params['threshold'], 255, cv2.THRESH_BINARY)[1]\n",
    "    contours = cv2.findContours(thresh, cv2.RETR_TREE, cv2.CHAIN_APPROX_SIMPLE)[1]\n",
    "\n",
    "    # filter contours by area\n",
    "    filtered_contours = [c for c in contours if cv2.contourArea(c) >= params['min_area']]\n",
    "    \n",
    "    # amount of stars and those sizes in the image\n",
    "    num_stars = len(filtered_contours)\n",
    "    contour_sizes = [c.shape[0] for c in filtered_contours]\n",
    "    \n",
    "    # updating the parameter\n",
    "    if num_stars < min_stars:\n",
    "        min_stars = num_stars\n",
    "    if num_stars > max_stars:\n",
    "        max_stars = num_stars\n",
    "        \n",
    "    if min(contour_sizes) < min_size:\n",
    "        min_size = int(min(contour_sizes)**0.5)\n",
    "    \n",
    "    if max(contour_sizes) > max_size:\n",
    "        max_size = int(max(contour_sizes)**0.5)\n",
    "    "
   ]
  },
  {
   "cell_type": "code",
   "execution_count": 6,
   "metadata": {},
   "outputs": [
    {
     "name": "stdout",
     "output_type": "stream",
     "text": [
      "5 55 5 2\n"
     ]
    }
   ],
   "source": [
    "print(min_stars, max_stars, max_size, min_size)"
   ]
  },
  {
   "cell_type": "code",
   "execution_count": 7,
   "metadata": {},
   "outputs": [],
   "source": [
    "def generate_galaxy_image(shape,min_num, max_num, min_star_size, max_star_size):\n",
    "    #generate black image\n",
    "    gen = np.zeros((shape[0], shape[1], 1), np.uint8)\n",
    "    # generate amount of stars randomly\n",
    "    num_stars = random.randint(min_num, max_num)\n",
    "    \n",
    "    for i in range(num_stars):\n",
    "        # generate intesity of the star randomly\n",
    "        intensity = random.randint(params['threshold'], 254)\n",
    "        # generate size of the star and position in the picture randomly\n",
    "        star_size0 = random.randint(min_star_size, max_star_size)\n",
    "        star_size1 = random.randint(min_star_size, max_star_size)\n",
    "        pos_0 = random.randint(2, shape[0]-3-star_size0)\n",
    "        pos_1 = random.randint(2, shape[1]-3-star_size1)\n",
    "        #intensity_change = np.random.randint(low = params['threshold'], high=254, size=star_size0*star_size1)\n",
    "        #gen[pos_0:pos_0+star_size0,pos_1:pos_1+star_size1] = intensity\n",
    "        #gen[pos_0:pos_0+star_size0,pos_1:pos_1+star_size1] = intensity_change.reshape(star_size0,star_size1,1)\n",
    "        \n",
    "        #gen[pos_0+ random.randint(-2, star_size0+2),pos_1+random.randint(-2, star_size1+2)] = intensity\n",
    "        # apply the intensity to the points\n",
    "        gen[pos_0:pos_0+star_size0,pos_1:pos_1+star_size1] = intensity\n",
    "        \n",
    "    # apply gaussian blurs with random and fixed filter sizes on the image\n",
    "    lst_filtsize = [3,5,7]\n",
    "    filter_size0 = lst_filtsize[random.randint(0, 2)]\n",
    "    filter_size1 = lst_filtsize[random.randint(0, 2)]\n",
    "    gen = cv2.GaussianBlur(gen,(filter_size0,filter_size1),0)\n",
    "    gen = cv2.GaussianBlur(gen,(3,3),1)\n",
    "    return gen"
   ]
  },
  {
   "cell_type": "code",
   "execution_count": 8,
   "metadata": {},
   "outputs": [],
   "source": [
    "#generating and saving images\n",
    "for i in range(params['num_images']):\n",
    "    gen_img = generate_galaxy_image(shape=(1000,1000),min_num=min_stars, max_num=max_stars, min_star_size=2, max_star_size=6)\n",
    "    cv2.imwrite(os.path.join(\"basic_images\", \"basic_img_\" + repr(i) + \".png\"), gen_img )\n",
    "\n",
    "#show last generated picture\n",
    "cv2.imshow('Image',gen_img)\n",
    "cv2.waitKey()\n",
    "cv2.destroyAllWindows()  "
   ]
  },
  {
   "cell_type": "code",
   "execution_count": null,
   "metadata": {},
   "outputs": [],
   "source": []
  }
 ],
 "metadata": {
  "kernelspec": {
   "display_name": "Python 3",
   "language": "python",
   "name": "python3"
  },
  "language_info": {
   "codemirror_mode": {
    "name": "ipython",
    "version": 3
   },
   "file_extension": ".py",
   "mimetype": "text/x-python",
   "name": "python",
   "nbconvert_exporter": "python",
   "pygments_lexer": "ipython3",
   "version": "3.7.3"
  }
 },
 "nbformat": 4,
 "nbformat_minor": 2
}
